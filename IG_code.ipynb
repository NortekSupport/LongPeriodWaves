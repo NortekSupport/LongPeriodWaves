# process_igw_nortek.py
from __future__ import annotations

from dataclasses import dataclass, field
from typing import Callable, Dict, Optional, Tuple

import numpy as np
from scipy.signal import butter, filtfilt, welch
import pywt
