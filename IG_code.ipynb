{
 "cells": [
  {
   "cell_type": "code",
   "execution_count": null,
   "id": "94ccf717",
   "metadata": {},
   "outputs": [],
   "source": [
    "import os\n",
    "import numpy as np\n",
    "import scipy.io\n",
    "from scipy.signal import filtfilt, butter\n",
    "#from waveletFunctions import compute_wavelet_Hm0  # You'd implement this\n",
    "#from spectralFunctions import PcorFFTFun, WaveSpectraFun  # You'd implement these"
   ]
  },
  {
   "cell_type": "code",
   "execution_count": null,
   "id": "0058de89",
   "metadata": {},
   "outputs": [],
   "source": [
    "1+1"
   ]
  },
  {
   "cell_type": "code",
   "execution_count": null,
   "id": "47e2587f",
   "metadata": {},
   "outputs": [],
   "source": []
  }
 ],
 "metadata": {
  "language_info": {
   "name": "python"
  }
 },
 "nbformat": 4,
 "nbformat_minor": 5
}
